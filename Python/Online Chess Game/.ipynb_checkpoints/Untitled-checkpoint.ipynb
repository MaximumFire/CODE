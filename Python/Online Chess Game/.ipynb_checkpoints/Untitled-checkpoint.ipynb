{
 "cells": [
  {
   "cell_type": "code",
   "execution_count": null,
   "metadata": {},
   "outputs": [],
   "source": [
    "import os\n",
    "os.system(\"pip install chess\")"
   ]
  },
  {
   "cell_type": "code",
   "execution_count": null,
   "metadata": {},
   "outputs": [],
   "source": [
    "import chess\n",
    "\n",
    "board = chess.Board()\n",
    "\n",
    "def move(move):\n",
    "    board.push_san(move)\n",
    "\n",
    "print(board)\n",
    "\n",
    "player = \"White\"\n",
    "\n",
    "while True:\n",
    "    print(f\"{player} to move.\")\n",
    "    if board.is_checkmate():\n",
    "        print(f\"{player} is in checkmate and has lost.\")\n",
    "        break\n",
    "    elif board.is_check():\n",
    "        print(f\"{player} is in check.\")\n",
    "    else:\n",
    "        if player == \"White\":\n",
    "            player = \"Black\"\n",
    "        else:\n",
    "            player = \"White\"  \n",
    "        choice = input(\"Enter a move: \")\n",
    "        if choice == \"\":\n",
    "            break\n",
    "        else:\n",
    "            try:\n",
    "                move(choice)\n",
    "            except ValueError as e:\n",
    "                print(\"That is not a valid move.\")\n",
    "                if player == \"White\":\n",
    "                    player = \"Black\"\n",
    "                else:\n",
    "                    player = \"White\"\n",
    "            print(board)"
   ]
  },
  {
   "cell_type": "code",
   "execution_count": null,
   "metadata": {},
   "outputs": [],
   "source": []
  }
 ],
 "metadata": {
  "kernelspec": {
   "display_name": "Python 3",
   "language": "python",
   "name": "python3"
  },
  "language_info": {
   "codemirror_mode": {
    "name": "ipython",
    "version": 3
   },
   "file_extension": ".py",
   "mimetype": "text/x-python",
   "name": "python",
   "nbconvert_exporter": "python",
   "pygments_lexer": "ipython3",
   "version": "3.8.5"
  }
 },
 "nbformat": 4,
 "nbformat_minor": 4
}
